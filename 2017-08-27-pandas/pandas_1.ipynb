{
 "cells": [
  {
   "cell_type": "markdown",
   "metadata": {},
   "source": [
    "## This is the tutorial for Pandas"
   ]
  },
  {
   "cell_type": "code",
   "execution_count": 8,
   "metadata": {
    "collapsed": true
   },
   "outputs": [],
   "source": [
    "import pandas as pd\n",
    "import numpy as np"
   ]
  },
  {
   "cell_type": "code",
   "execution_count": 13,
   "metadata": {
    "collapsed": false
   },
   "outputs": [
    {
     "name": "stdout",
     "output_type": "stream",
     "text": [
      "   age    cash     id\n",
      "0   18   10.23   Jack\n",
      "1   23  800.30  Sarah\n",
      "2   46   29.30   Mike\n"
     ]
    }
   ],
   "source": [
    "data = {'id':['Jack','Sarah','Mike'],\n",
    "        'age':[18,23,46],\n",
    "        'cash':[10.23,800.3,29.3]}\n",
    "df = pd.DataFrame(data)\n",
    "print df"
   ]
  },
  {
   "cell_type": "code",
   "execution_count": 4,
   "metadata": {
    "collapsed": false
   },
   "outputs": [
    {
     "name": "stdout",
     "output_type": "stream",
     "text": [
      "a     4\n",
      "b     9\n",
      "c    16\n",
      "Name: number, dtype: int64\n"
     ]
    }
   ],
   "source": [
    "s = pd.Series({'a':4,'b':9,'c':16},name='number')\n",
    "print s"
   ]
  },
  {
   "cell_type": "code",
   "execution_count": 15,
   "metadata": {
    "collapsed": false
   },
   "outputs": [
    {
     "name": "stdout",
     "output_type": "stream",
     "text": [
      "4\n",
      "------------------------------\n",
      "a     4\n",
      "b     9\n",
      "c    16\n",
      "Name: number, dtype: int64\n",
      "------------------------------\n",
      "4\n",
      "------------------------------\n",
      "a     4\n",
      "b     9\n",
      "c    16\n",
      "d    10\n",
      "Name: number, dtype: int64\n",
      "------------------------------\n",
      "a    2.000000\n",
      "b    3.000000\n",
      "c    4.000000\n",
      "d    3.162278\n",
      "Name: number, dtype: float64\n"
     ]
    }
   ],
   "source": [
    "print s[0]\n",
    "print '-'*30\n",
    "print s[:3]\n",
    "print '-'*30\n",
    "print s['a']\n",
    "print '-'*30\n",
    "s['d'] = 10\n",
    "print s\n",
    "print '-'*30\n",
    "print np.sqrt(s)"
   ]
  },
  {
   "cell_type": "code",
   "execution_count": null,
   "metadata": {
    "collapsed": true
   },
   "outputs": [],
   "source": []
  }
 ],
 "metadata": {
  "kernelspec": {
   "display_name": "Python 2",
   "language": "python",
   "name": "python2"
  },
  "language_info": {
   "codemirror_mode": {
    "name": "ipython",
    "version": 2
   },
   "file_extension": ".py",
   "mimetype": "text/x-python",
   "name": "python",
   "nbconvert_exporter": "python",
   "pygments_lexer": "ipython2",
   "version": "2.7.13"
  }
 },
 "nbformat": 4,
 "nbformat_minor": 2
}
